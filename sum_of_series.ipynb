{
 "cells": [
  {
   "cell_type": "code",
   "execution_count": 1,
   "id": "d2d4e32e-0313-49b9-ba8a-79f1d70a5f4e",
   "metadata": {},
   "outputs": [],
   "source": [
    "# write a function check from 100 to this number, \n",
    "# if the sum of the digits equal 7, print the number in 'hundred: x, ten: y, unit: z'\n",
    "\n",
    "# 121 -> don't print\n",
    "# 340 -> 3 + 4 + 0 == 7, print\n",
    "#    hundred: 3, ten: 4, unit: 0"
   ]
  },
  {
   "cell_type": "code",
   "execution_count": 2,
   "id": "fcfc9e97-8026-4f03-96cc-09403b7a8d86",
   "metadata": {
    "tags": []
   },
   "outputs": [],
   "source": [
    "import random\n",
    "\n",
    "def sum_of_series(num1=random.randint(1, 100), num2=100):\n",
    "    places = ['unit', 'ten', 'hundred', 'thousand', 'ten-thousand', 'hundred-thousand', 'million', 'ten-million', 'hundred-million']\n",
    "    num1 = int(num1)\n",
    "    num2 = int(num2)\n",
    "    count = abs(num1 - num2) + 1\n",
    "    series_sum = (num1 + num2) // 2 * count\n",
    "    digits = list(str(series_sum))[-1::-1]\n",
    "    digits = [int(d) for d in digits]\n",
    "    places_values = ''\n",
    "    \n",
    "    if sum(digits) == 7:\n",
    "        for i in range(len(digits)):\n",
    "            if i == 0 :\n",
    "                places_values = f'{places[i]}: {digits[i]}'\n",
    "            else:\n",
    "                places_values = f'{places[i]}: {digits[i]}, ' + places_values\n",
    "    \n",
    "    return places_values"
   ]
  },
  {
   "cell_type": "code",
   "execution_count": 3,
   "id": "717cabe7-4253-4677-bd3d-7dfe7e016312",
   "metadata": {
    "tags": []
   },
   "outputs": [
    {
     "name": "stdout",
     "output_type": "stream",
     "text": [
      "88 - thousand: 1, hundred: 2, ten: 2, unit: 2\n"
     ]
    }
   ],
   "source": [
    "for i in range(100):\n",
    "    if sum_of_series(i) != '':\n",
    "        print(f'{i} - {sum_of_series(i)}')"
   ]
  }
 ],
 "metadata": {
  "kernelspec": {
   "display_name": "Python 3 (ipykernel)",
   "language": "python",
   "name": "python3"
  },
  "language_info": {
   "codemirror_mode": {
    "name": "ipython",
    "version": 3
   },
   "file_extension": ".py",
   "mimetype": "text/x-python",
   "name": "python",
   "nbconvert_exporter": "python",
   "pygments_lexer": "ipython3",
   "version": "3.11.2"
  }
 },
 "nbformat": 4,
 "nbformat_minor": 5
}
