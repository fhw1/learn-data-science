{
 "cells": [
  {
   "cell_type": "code",
   "execution_count": null,
   "id": "cf15e6c4-90d2-42fd-827e-d765bb35a7e9",
   "metadata": {},
   "outputs": [],
   "source": [
    "# Game: Rock paper scissors\n",
    "# A function to play rock paper scissors with computer\n",
    "# Requirements:\n",
    "# - rules: paper > rock, rock > scissors, etc.\n",
    "# - computer randomly choose one\n",
    "# - player input choice\n",
    "# - get result, win / lose / draw\n",
    "# - if draw, do not count, play that round again\n",
    "# - 3 rounds each game, win 2 rounds then win the game"
   ]
  },
  {
   "cell_type": "code",
   "execution_count": null,
   "id": "1ffc549a-9a60-43f5-aa79-a47d8a32383c",
   "metadata": {},
   "outputs": [],
   "source": [
    "# computer choose randomly\n",
    "\n",
    "# player input choice\n",
    "# validate input\n",
    "\n",
    "# check who wins\n",
    "\n",
    "# loop -> 3 rounds\n",
    "# draw -> repeat that round / do not count that round\n",
    "\n",
    "# count number of wins for player and computer\n",
    "\n",
    "# wrap as a function"
   ]
  },
  {
   "cell_type": "code",
   "execution_count": null,
   "id": "cc504d1d-c482-4835-b1c0-808c09428d32",
   "metadata": {
    "tags": []
   },
   "outputs": [],
   "source": [
    "# computer choose randomly\n",
    "import random\n",
    "\n",
    "choices = ['rock', 'paper', 'scissors']"
   ]
  },
  {
   "cell_type": "code",
   "execution_count": null,
   "id": "8e40aed4-1465-4001-9fac-96d376a3f858",
   "metadata": {
    "tags": []
   },
   "outputs": [],
   "source": [
    "def player_input(chances=3):\n",
    "    trial = 0\n",
    "    while trial < chances:\n",
    "        print('Pick a shape by entering the name or number.')\n",
    "        myinput = input('rock[0] / paper[1] / scissors[2] : ')\n",
    "        trial += 1\n",
    "        \n",
    "        if myinput.strip().isdigit() and 0 <= int(myinput) <= 2:\n",
    "            return int(myinput)\n",
    "        elif myinput.strip().lower() == 'rock':\n",
    "            return 0\n",
    "        elif myinput.strip().lower() == 'paper':\n",
    "            return 1\n",
    "        elif myinput.strip().lower() == 'scissors':\n",
    "            return 2\n",
    "        elif trial == chances:\n",
    "            print('The computer has been shut down. Bye-bye!')\n",
    "            return -1\n",
    "        else:\n",
    "            print('Wrong input. Please try again.\\n')"
   ]
  },
  {
   "cell_type": "code",
   "execution_count": null,
   "id": "b3d38338-b56c-4f6a-9e7a-5bbf472fe2c8",
   "metadata": {},
   "outputs": [],
   "source": [
    "def judgement(shape1, shape2):\n",
    "    if shape1 == shape2:\n",
    "        return 'draw'\n",
    "    elif shape1 == 'rock':\n",
    "        return 'lose' if shape2 == 'paper' else 'win'\n",
    "    elif shape1 == 'paper':\n",
    "        return 'lose' if shape2 == 'scissors'else 'win'\n",
    "    else:\n",
    "        return 'lose' if shape2 == 'rock' else 'win'\n",
    "    return None"
   ]
  },
  {
   "cell_type": "code",
   "execution_count": null,
   "id": "ca808888-7071-43c4-8d94-924ad8815cf6",
   "metadata": {
    "tags": []
   },
   "outputs": [],
   "source": [
    "def play_rock_paper_scissors(rounds=3):\n",
    "    computer_score = 0\n",
    "    player_score = 0\n",
    "    best_of = (rounds // 2) + 1\n",
    "    \n",
    "    print('*'*45)\n",
    "    print(f'Let\\'s play Rock Paper Scissors! (Best of {rounds})')\n",
    "    print('*'*45 + '\\n')\n",
    "\n",
    "    while not (computer_score == best_of or player_score == best_of):\n",
    "        player_choice = player_input()\n",
    "        computer_choice = random.choice(choices)\n",
    "\n",
    "        if 0 <= player_choice <= 2:\n",
    "            print(f'Computer\\'s choice: {computer_choice}')\n",
    "            print(f'Your choice: {choices[player_choice]}')\n",
    "            \n",
    "            result = judgement(choices[player_choice], computer_choice)\n",
    "            print('-'*45)\n",
    "            print(f'Result of this round: {result}')\n",
    "            print('-'*45 + '\\n')\n",
    "\n",
    "            if result == 'win':\n",
    "                player_score += 1\n",
    "            elif result == 'lose':\n",
    "                computer_score += 1\n",
    "            else:\n",
    "                continue\n",
    "        else:\n",
    "            break\n",
    "    \n",
    "    # Show final result only if the game ends normally\n",
    "    if (computer_score == best_of or player_score == best_of):\n",
    "        print('*'*45)\n",
    "        print('Final Result')\n",
    "        print('*'*45)\n",
    "        print(f'Your score: {player_score}')\n",
    "        print(f'Computer\\'s score: {computer_score}\\n')\n",
    "        if player_score == best_of:\n",
    "            print('Congratulations! You beat the computer!! ^_^')\n",
    "        elif computer_score == best_of:\n",
    "            print('Sorry, you lose...T_T')"
   ]
  },
  {
   "cell_type": "code",
   "execution_count": null,
   "id": "060ab8d2-677d-44df-99f6-38533ccc6746",
   "metadata": {
    "tags": []
   },
   "outputs": [],
   "source": [
    "# Set how many rounds will be played. Default is 3.\n",
    "rounds = 3\n",
    "\n",
    "# Run the game\n",
    "play_rock_paper_scissors(rounds)"
   ]
  }
 ],
 "metadata": {
  "kernelspec": {
   "display_name": "Python 3 (ipykernel)",
   "language": "python",
   "name": "python3"
  },
  "language_info": {
   "codemirror_mode": {
    "name": "ipython",
    "version": 3
   },
   "file_extension": ".py",
   "mimetype": "text/x-python",
   "name": "python",
   "nbconvert_exporter": "python",
   "pygments_lexer": "ipython3",
   "version": "3.11.4"
  }
 },
 "nbformat": 4,
 "nbformat_minor": 5
}
