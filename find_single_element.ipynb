{
 "cells": [
  {
   "cell_type": "markdown",
   "id": "11da61f8-3570-4f9b-a56d-2f839c3d931f",
   "metadata": {
    "id": "7_Exl_1VUcY5"
   },
   "source": [
    "# HW1\n"
   ]
  },
  {
   "cell_type": "markdown",
   "id": "b56b5ed6-e8a1-4c44-8865-f19c32b6056e",
   "metadata": {
    "id": "eDzoqI7mUcY6"
   },
   "source": [
    "write a function which input list with following propeteries\n",
    "- all elements are positive integer \n",
    "- all elements exist twice except one\n",
    "e.g [1,4,6,7,5,4,6,1,7] -> 5\n",
    "and output the single occured element "
   ]
  },
  {
   "cell_type": "code",
   "execution_count": null,
   "id": "ce4f6f59-6003-4139-8418-db9d5d20110b",
   "metadata": {
    "id": "X3-cwELVPqX3"
   },
   "outputs": [],
   "source": [
    "# Hint from trainer: use dictionary to avoid running inner loops\n",
    "\n",
    "l = [1,4,6,7,5,4,6,1,7]\n",
    "\n",
    "def find_single_element(input_list):\n",
    "    temp_dict = dict()\n",
    "    result = []\n",
    "    for i in input_list:\n",
    "        if i not in temp_dict:\n",
    "            temp_dict[i] = 1\n",
    "        else:\n",
    "            temp_dict[i] += 1\n",
    "    result = [k for k, v in temp_dict.items() if v == 1]\n",
    "    return result[0] if len(result) > 0 else None\n",
    "\n",
    "print(find_single_element(l))"
   ]
  }
 ],
 "metadata": {
  "kernelspec": {
   "display_name": "Python 3 (ipykernel)",
   "language": "python",
   "name": "python3"
  },
  "language_info": {
   "codemirror_mode": {
    "name": "ipython",
    "version": 3
   },
   "file_extension": ".py",
   "mimetype": "text/x-python",
   "name": "python",
   "nbconvert_exporter": "python",
   "pygments_lexer": "ipython3",
   "version": "3.11.4"
  }
 },
 "nbformat": 4,
 "nbformat_minor": 5
}
